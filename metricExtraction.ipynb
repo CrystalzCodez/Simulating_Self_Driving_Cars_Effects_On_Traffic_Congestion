{
 "cells": [
  {
   "cell_type": "code",
   "execution_count": 1,
   "metadata": {},
   "outputs": [],
   "source": [
    "filename=\"8241000output.txt\"\n",
    "file = open(filename, \"r\")\n",
    "\n",
    "lines = [line for line in file.readlines() if \"#@#@#@#@#@#@#@#@#@#@#@\" in line]\n",
    "averages = [line for line in lines if \"Average Speed\" in line]\n",
    "maxes = [line for line in lines if \"Maximum Speed\" in line]\n",
    "\n",
    "file.close()\n",
    "\n",
    "file = open(filename, \"r\")\n",
    "\n",
    "counts = [line for line in file.readlines() if \"&*&*&*&*&*&*&*&*&*&*&*&*&*&\" in line]"
   ]
  },
  {
   "cell_type": "code",
   "execution_count": 2,
   "metadata": {},
   "outputs": [
    {
     "name": "stdout",
     "output_type": "stream",
     "text": [
      "(pid=24763) &*&*&*&*&*&*&*&*&*&*&*&*&*& 0\n",
      "\n",
      "818\n",
      "Average of averages 6.731595768204096\n",
      "Averages of maxes 24.54470259226385\n",
      "Total respawns 1430\n"
     ]
    }
   ],
   "source": [
    "# cut_to = len(\"(pid=14492) Average Speed#@#@#@#@#@#@#@#@#@#@#@ \")\n",
    "\n",
    "averages = [float(line[48:len(line)-1]) for line in averages]\n",
    "maxes = [float(line[48:len(line)-1]) for line in maxes]\n",
    "\n",
    "k = 0\n",
    "newcounts = []\n",
    "\n",
    "for line in counts:\n",
    "    k += 1\n",
    "    try:\n",
    "        newline = float(line[46:len(line)-1])\n",
    "        newcounts.append(newline)\n",
    "        \n",
    "    except:\n",
    "        print(line)\n",
    "        print(k)\n",
    "        \n",
    "counts = newcounts\n",
    "\n",
    "# counts = [float(line[46:len(line)-1]) for line in counts]\n",
    "\n",
    "e = sum(averages)/len(averages)\n",
    "a = sum(maxes)/len(maxes)\n",
    "i = int(sum(counts))\n",
    "\n",
    "print(\"Average of averages\", e)\n",
    "print(\"Averages of maxes\", a)\n",
    "print(\"Total respawns\", i)"
   ]
  },
  {
   "cell_type": "code",
   "execution_count": 3,
   "metadata": {},
   "outputs": [],
   "source": [
    "# from matplotlib import pyplot as pl\n",
    "# pl.plot(averages, 'b')\n",
    "# pl.plot(maxes, 'r')\n",
    "# pl.show()"
   ]
  }
 ],
 "metadata": {
  "kernelspec": {
   "display_name": "Python 3",
   "language": "python",
   "name": "python3"
  },
  "language_info": {
   "codemirror_mode": {
    "name": "ipython",
    "version": 3
   },
   "file_extension": ".py",
   "mimetype": "text/x-python",
   "name": "python",
   "nbconvert_exporter": "python",
   "pygments_lexer": "ipython3",
   "version": "3.7.3"
  }
 },
 "nbformat": 4,
 "nbformat_minor": 4
}
